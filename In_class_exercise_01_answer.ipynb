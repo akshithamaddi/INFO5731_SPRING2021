{
  "nbformat": 4,
  "nbformat_minor": 0,
  "metadata": {
    "colab": {
      "name": "In_class_exercise_01_answer.ipynb",
      "provenance": [],
      "collapsed_sections": [],
      "include_colab_link": true
    },
    "kernelspec": {
      "display_name": "Python 3",
      "language": "python",
      "name": "python3"
    },
    "language_info": {
      "codemirror_mode": {
        "name": "ipython",
        "version": 3
      },
      "file_extension": ".py",
      "mimetype": "text/x-python",
      "name": "python",
      "nbconvert_exporter": "python",
      "pygments_lexer": "ipython3",
      "version": "3.7.4"
    }
  },
  "cells": [
    {
      "cell_type": "markdown",
      "metadata": {
        "id": "view-in-github",
        "colab_type": "text"
      },
      "source": [
        "<a href=\"https://colab.research.google.com/github/akshithamaddi/INFO5731_SPRING2021/blob/main/In_class_exercise_01_answer.ipynb\" target=\"_parent\"><img src=\"https://colab.research.google.com/assets/colab-badge.svg\" alt=\"Open In Colab\"/></a>"
      ]
    },
    {
      "cell_type": "markdown",
      "metadata": {
        "id": "DymRJbxDBCnf"
      },
      "source": [
        "# **The first In-class-exercise (1/19/2021, 20 points in total)**"
      ]
    },
    {
      "cell_type": "markdown",
      "metadata": {
        "id": "03jb4GZsBkBS"
      },
      "source": [
        "(1) Write a Python program to calculate the length of a string. (2 points)"
      ]
    },
    {
      "cell_type": "code",
      "metadata": {
        "id": "YaGLbSHHB8Ej",
        "colab": {
          "base_uri": "https://localhost:8080/"
        },
        "outputId": "4c8d18c8-19e9-4f9a-9cc0-4a8d623cef6b"
      },
      "source": [
        "# write your answer here\n",
        "\n",
        "def string_length(str1):\n",
        "    count = 0\n",
        "    for char in str1:\n",
        "        count += 1\n",
        "    return count\n",
        "print(string_length('w3resource.com'))\n"
      ],
      "execution_count": 1,
      "outputs": [
        {
          "output_type": "stream",
          "text": [
            "14\n"
          ],
          "name": "stdout"
        }
      ]
    },
    {
      "cell_type": "markdown",
      "metadata": {
        "id": "jJDe71iLB616"
      },
      "source": [
        "(2) Write a Python program to count the number of characters in a string. (2 points)\n",
        "\n",
        "Sample String : 'google.com‘, \n",
        "\n",
        "Expected Result : {'o': 3, 'g': 2, '.': 1, 'e': 1, 'l': 1, 'm': 1, 'c': 1}"
      ]
    },
    {
      "cell_type": "code",
      "metadata": {
        "id": "MtKskTzbCLaU",
        "colab": {
          "base_uri": "https://localhost:8080/"
        },
        "outputId": "d8d247dd-0788-4d8b-a0bc-6f8eea8b8f60"
      },
      "source": [
        "# write your answer here\n",
        "import operator\n",
        "\n",
        "def stringToDict(str1):\n",
        "  str_dict = dict()\n",
        "  for i in str1:\n",
        "    count = 0\n",
        "    for s in str1:\n",
        "      if i == s:\n",
        "        count += 1\n",
        "    str_dict[i] = count\n",
        "  sorted_d = dict( sorted(str_dict.items(), key=operator.itemgetter(1),reverse=True))\n",
        "  return sorted_d\n",
        "\n",
        "# Declaring an input string and calling above function\n",
        "string = \"google.com\"\n",
        "print(\"Expected Result:\", stringToDict(string))\n"
      ],
      "execution_count": 2,
      "outputs": [
        {
          "output_type": "stream",
          "text": [
            "Expected Result: {'o': 3, 'g': 2, 'l': 1, 'e': 1, '.': 1, 'c': 1, 'm': 1}\n"
          ],
          "name": "stdout"
        }
      ]
    },
    {
      "cell_type": "markdown",
      "metadata": {
        "id": "55W9AMdXCSpV"
      },
      "source": [
        "(3) Write a Python program to sum all the items in a list. (2 points)"
      ]
    },
    {
      "cell_type": "code",
      "metadata": {
        "id": "I57NXsauCec2",
        "colab": {
          "base_uri": "https://localhost:8080/"
        },
        "outputId": "d1de6e23-6df0-4adf-880c-9d5d4ce9e241"
      },
      "source": [
        "# write your answer here\n",
        "def sum_list(items):  \n",
        "    sum_numbers = 0  \n",
        "    for x in items:  \n",
        "        sum_numbers += x  \n",
        "    return sum_numbers  \n",
        "print(sum_list([1,2,-8]))\n"
      ],
      "execution_count": 3,
      "outputs": [
        {
          "output_type": "stream",
          "text": [
            "-5\n"
          ],
          "name": "stdout"
        }
      ]
    },
    {
      "cell_type": "markdown",
      "metadata": {
        "id": "4ulBZ6yhCi9F"
      },
      "source": [
        "(4) Write a Python program to get a string from a given string where all occurrences of its first char have been changed to '\\$', except the first char itself. (2 points)\n",
        "\n",
        "Sample String : 'restart‘, \n",
        "\n",
        "Expected Result : 'resta\\$t'"
      ]
    },
    {
      "cell_type": "code",
      "metadata": {
        "id": "Fj0XhwbBCw2o",
        "colab": {
          "base_uri": "https://localhost:8080/"
        },
        "outputId": "1fa12581-f1b2-453f-b835-a09163e2b18d"
      },
      "source": [
        "# write your answer here\n",
        "def change_char(str1):  \n",
        "  char = str1[0]  \n",
        "  length = len(str1)  \n",
        "  str1 = str1.replace(char, '$')  \n",
        "  str1 = char + str1[1:]  \n",
        "  \n",
        "  return str1  \n",
        "  \n",
        "print(change_char('restart'))"
      ],
      "execution_count": 4,
      "outputs": [
        {
          "output_type": "stream",
          "text": [
            "resta$t\n"
          ],
          "name": "stdout"
        }
      ]
    },
    {
      "cell_type": "markdown",
      "metadata": {
        "id": "_bIP7s1MCzue"
      },
      "source": [
        "(5) Write a program with python which could accept two parameter a and b to calculate and output the result of S, where \n",
        "\n",
        "$\\ S=3.14*(1+a/b)^3$ (3 points)\n",
        "\n"
      ]
    },
    {
      "cell_type": "code",
      "metadata": {
        "id": "w79QilHXD3Mg",
        "colab": {
          "base_uri": "https://localhost:8080/"
        },
        "outputId": "6024be6e-b8d5-439d-a81d-cc7c677d595b"
      },
      "source": [
        "# write your answer here\n",
        "# Using funtion to throw 'Divide by Zero' error\n",
        "def error(error_desc):\n",
        "  print(error_desc)\n",
        "  return\n",
        "\n",
        "# Using funtion to accept two parameters to calculate the given output\n",
        "def calculate_S(a, b):\n",
        "  if b == 0:\n",
        "    error(\"Runtime Error: Attempt to divide by zero\")\n",
        "  return 3.14 * (1 + a/b)**3\n",
        "\n",
        "#intializing a & b variables through keyboard input\n",
        "parameter_a = int(input(\"Please enter a value for a : \"))\n",
        "parameter_b = int(input(\"Please enter a value for b : \"))\n",
        "\n",
        "#Calling the above functions and printing results \n",
        "print(\" Expected result : \", calculate_S(parameter_a, parameter_b))"
      ],
      "execution_count": 5,
      "outputs": [
        {
          "output_type": "stream",
          "text": [
            "Please enter a value for a : 5\n",
            "Please enter a value for b : 7\n",
            " Expected result :  15.81900874635569\n"
          ],
          "name": "stdout"
        }
      ]
    },
    {
      "cell_type": "markdown",
      "metadata": {
        "id": "xCa2bK9aD4Q3"
      },
      "source": [
        "(6) Write a Python program to concatenate following dictionaries to create a new one. (3 points)\n",
        "\n",
        "Sample Dictionary : dic1={1:10, 2:20}, dic2={3:30, 4:40}, dic3={5:50,6:60}, \n",
        "\n",
        "Expected Result : {1: 10, 2: 20, 3: 30, 4: 40, 5: 50, 6: 60}\n"
      ]
    },
    {
      "cell_type": "code",
      "metadata": {
        "id": "_z4aLqAbEET1",
        "colab": {
          "base_uri": "https://localhost:8080/"
        },
        "outputId": "062626bc-9a88-458b-87b5-320968872903"
      },
      "source": [
        "# write your answer here\n",
        "dic1={1:10, 2:20}  \n",
        "dic2={3:30, 4:40}  \n",
        "dic3={5:50,6:60}  \n",
        "dic4 = {}  \n",
        "for d in (dic1, dic2, dic3): dic4.update(d)  \n",
        "print(dic4)"
      ],
      "execution_count": 6,
      "outputs": [
        {
          "output_type": "stream",
          "text": [
            "{1: 10, 2: 20, 3: 30, 4: 40, 5: 50, 6: 60}\n"
          ],
          "name": "stdout"
        }
      ]
    },
    {
      "cell_type": "markdown",
      "metadata": {
        "id": "0v48Vqa7FrQh"
      },
      "source": [
        "(7) Write a Python program to check whether an element exists within a tuple. (3 points)"
      ]
    },
    {
      "cell_type": "code",
      "metadata": {
        "id": "7WEmgq-DF2P1",
        "colab": {
          "base_uri": "https://localhost:8080/"
        },
        "outputId": "a33cf377-3661-4247-e066-58c73a5e512a"
      },
      "source": [
        "# write your answer here\n",
        "tuplex = (\"w\", 3, \"r\", \"e\", \"s\", \"o\", \"u\", \"r\", \"c\", \"e\")\n",
        "print(\"r\" in tuplex)\n",
        "print(5 in tuplex)"
      ],
      "execution_count": 7,
      "outputs": [
        {
          "output_type": "stream",
          "text": [
            "True\n",
            "False\n"
          ],
          "name": "stdout"
        }
      ]
    },
    {
      "cell_type": "markdown",
      "metadata": {
        "id": "vD5PYLMuGga_"
      },
      "source": [
        "(8) Write a Python program to find maximum and the minimum value in a set. (3 points)"
      ]
    },
    {
      "cell_type": "code",
      "metadata": {
        "id": "t0D5kdJUGjjw",
        "colab": {
          "base_uri": "https://localhost:8080/"
        },
        "outputId": "c6769883-bda0-4c7a-d670-6f67e16b9112"
      },
      "source": [
        "# write your answer here\n",
        "#Create a set\n",
        "seta = set([5, 10, 3, 15, 2, 20])\n",
        "#Find maximum value\n",
        "print(max(seta))\n",
        "#Find minimum value\n",
        "print(min(seta))"
      ],
      "execution_count": 8,
      "outputs": [
        {
          "output_type": "stream",
          "text": [
            "20\n",
            "2\n"
          ],
          "name": "stdout"
        }
      ]
    },
    {
      "cell_type": "markdown",
      "metadata": {
        "id": "uHkd-y5VhVWC"
      },
      "source": [
        "(9) Write a Python program to randomly divide the students in this class into five groups for term projects, each group should have at least 3 students but no more than 5 students (including 5). Here is the students list: (3 points for extra)\n",
        "\n",
        "studnet_list = ['vmb0067','pc0353','snd0097','yye0005','sg0940','bk0301','rak0120','rrk0058','spk0057','vl0135','nm0547','pn0159',\n",
        "                'msp0174','dd0420','ds0761','rs0850','ss1995','at0739','at0768','mv0299','tv0119','dy0091']"
      ]
    },
    {
      "cell_type": "code",
      "metadata": {
        "id": "3iGbmcOBhTwy"
      },
      "source": [
        "# write your answer here\n",
        "import random\n",
        "#sampling with replacement\n",
        "studnet_list = ['vmb0067','pc0353','snd0097','yye0005','sg0940','bk0301','rak0120','rrk0058',\n",
        "                'spk0057','vl0135','nm0547','pn0159', 'msp0174','dd0420','ds0761','rs0850',\n",
        "                'ss1995','at0739','at0768','mv0299','tv0119','dy0091']\n",
        "group_size = []\n",
        "for i in range(5):\n",
        "    group_size.append(random.randint(3,5))\n",
        "\n",
        "# make sure that the sum of the group size is 22\n",
        "if sum(group_size) == len(studnet_list):\n",
        "    print(group_size)\n",
        "    for j in range(5):\n",
        "      sampling = random.sample(studnet_list,group_size[j-1])\n",
        "      studnet_list = [j for j in studnet_list if j not in sampling]\n",
        "      print(\"Group \" +str(j+1)+\": \", sampling)"
      ],
      "execution_count": 9,
      "outputs": []
    }
  ]
}