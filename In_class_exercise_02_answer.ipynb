{
  "nbformat": 4,
  "nbformat_minor": 0,
  "metadata": {
    "colab": {
      "name": "In_class_exercise_02_answer.ipynb",
      "provenance": [],
      "collapsed_sections": [],
      "toc_visible": true,
      "include_colab_link": true
    },
    "kernelspec": {
      "name": "python3",
      "display_name": "Python 3"
    }
  },
  "cells": [
    {
      "cell_type": "markdown",
      "metadata": {
        "id": "view-in-github",
        "colab_type": "text"
      },
      "source": [
        "<a href=\"https://colab.research.google.com/github/akshithamaddi/INFO5731_SPRING2021/blob/main/In_class_exercise_02_answer.ipynb\" target=\"_parent\"><img src=\"https://colab.research.google.com/assets/colab-badge.svg\" alt=\"Open In Colab\"/></a>"
      ]
    },
    {
      "cell_type": "markdown",
      "metadata": {
        "id": "oo5bsEh2eeWi"
      },
      "source": [
        "# **The second In-class-exercise**\n"
      ]
    },
    {
      "cell_type": "markdown",
      "metadata": {
        "id": "2sPQ58dIeqgp"
      },
      "source": [
        "(1) Write a Python program to find the duplicate elements in a given array of integers. Return -1 If there are no such elements."
      ]
    },
    {
      "cell_type": "code",
      "metadata": {
        "id": "mnrvKMFTeoJR"
      },
      "source": [
        "# write your answer here\n",
        "\n",
        "def find_first_duplicate(nums):\n",
        "    num_set = set()\n",
        "    no_duplicate = -1\n",
        "\n",
        "    for i in range(len(nums)):\n",
        "\n",
        "        if nums[i] in num_set:\n",
        "            return nums[i]\n",
        "        else:\n",
        "            num_set.add(nums[i])\n",
        "\n",
        "    return no_duplicate\n",
        "\n",
        "print(find_first_duplicate([1, 2, 3, 4, 4, 5]))\n",
        "print(find_first_duplicate([1, 2, 3, 4]))\n",
        "print(find_first_duplicate([1, 1, 2, 3, 3, 2, 2]))\n"
      ],
      "execution_count": null,
      "outputs": []
    },
    {
      "cell_type": "markdown",
      "metadata": {
        "id": "YYrH6n6IhZoQ"
      },
      "source": [
        "(2) Write a Python program to select all the Sundays of a specified year.\n",
        "\n"
      ]
    },
    {
      "cell_type": "code",
      "metadata": {
        "id": "OSfPLd23eLpX"
      },
      "source": [
        "# write your answer here\n",
        "\n",
        "from datetime import date, timedelta\n",
        "\n",
        "def all_sundays(year):\n",
        "# January 1st of the given year\n",
        "       dt = date(year, 1, 1)\n",
        "# First Sunday of the given year       \n",
        "       dt += timedelta(days = 6 - dt.weekday())  \n",
        "       while dt.year == year:\n",
        "          yield dt\n",
        "          dt += timedelta(days = 7)\n",
        "          \n",
        "for s in all_sundays(2020):\n",
        "   print(s)\n"
      ],
      "execution_count": null,
      "outputs": []
    },
    {
      "cell_type": "markdown",
      "metadata": {
        "id": "UIpziZ6Sjie-"
      },
      "source": [
        "(3) Python files reading and writing. Download the “[exercise_02_data _collection.zip](https://github.com/unt-iialab/INFO5731_Spring2020/blob/master/In_class_exercise/exercise_02_data_collection.zip)” to your local and un-zip it.\n",
        "\n",
        "*   Write a program to read all the txt files and save the sentences in all the files into one csv file with two columns, the first column is sentence id (txt file name+sentence line number), the second column is the sentence text content.\n",
        "*   Remove all the punctuations from the sentences, save the processed sentences into a new column in the same csv file.\n",
        "*   Ask the user to enter a word, return all the sentences that include this word, three kinds of information should be returned: sentence id, sentence text content, the count that user input word appear in the sentence..\n",
        "\n"
      ]
    },
    {
      "cell_type": "code",
      "metadata": {
        "id": "f3CUsrWOj1Xy"
      },
      "source": [
        "# write your answer here\n",
        "\n",
        "# Question 3-1\n",
        "\n",
        "import csv\n",
        "# Create and open the CSV file for output\n",
        "with open(\"output.csv\",\"w\") as output_file:\n",
        "    line_output = csv.writer(output_file,delimiter=',')\n",
        "    i = 1\n",
        "    while i <= 100: # Loop to open and read all 100 files\n",
        "        # Replace with path of your file location\n",
        "        input_file_name = \"Assign-two-data-collection//\"+\"ARTHROTEC.\"+str(i)+\".txt\" # File name changes with index value\n",
        "        output_line_name = \"ARTHROTEC.\"+str(i)\n",
        "        input_file = open(input_file_name).read() # Open and read each input file\n",
        "        sentences = input_file.split('\\n') # Split the file into separate lines\n",
        "        for x in sentences: # Loop to remove empty lines\n",
        "            if x == '':\n",
        "                sentences.remove(x) # remove empty lines\n",
        "        for x in sentences: # Loop to add each line to output file\n",
        "            sentence_id = output_line_name+\" - line \"+str(sentences.index(x)+1) # Create a string for sentence id\n",
        "#             print(sentence_id)\n",
        "            line_output.writerow([sentence_id,x]) # write sentence id and sentence into output file\n",
        "        i += 1 # increment index to move on to the next file\n",
        "\n",
        "# Question 3-2:\n",
        "\n",
        "import csv\n",
        "import re\n",
        "temp_data = [] # Temporary list to store read data\n",
        "# Open output file for reading\n",
        "with open(\"output.csv\",'r') as input_file:\n",
        "    file_reader = csv.reader(input_file) # Create file reading variable\n",
        "    for row in file_reader: # Loop to read each row from the file\n",
        "        clean_line = re.sub(r\"[^a-zA-Z\\s\\']\",\"\",row[1]) # Remove all numbers and special characters from sentence\n",
        "        clean_line = re.sub(\"\\s\\s\",\" \",clean_line) # Replace all double spaces with one space\n",
        "        row.append(clean_line) # Append the cleaned sentence to third column of each row\n",
        "        temp_data.append(row) # Add each row to the temporary list\n",
        "# Open output file for writing\n",
        "with open(\"output.csv\",\"w\") as output_file:\n",
        "    file_writer = csv.writer(output_file,delimiter=',') # Create file writing variable\n",
        "    file_writer.writerows(temp_data) # Add all temporary data to the file\n",
        "\n",
        "# Question 3-3\n",
        "\n",
        "import csv\n",
        "import re\n",
        "user_input = input(\"Enter a word: \") # Ask the user for word input\n",
        "with open(\"output.csv\",'r') as input_file:\n",
        "    file_reader = csv.reader(input_file) # Create file reading variable\n",
        "    for row in file_reader: # Loop to read each row from the file\n",
        "        search_term = \" \"+user_input+\" \"\n",
        "        if search_term in row[2]:\n",
        "            found_words = re.findall(search_term,row[2])\n",
        "            print(row[0],row[1],len(found_words))\n"
      ],
      "execution_count": null,
      "outputs": []
    },
    {
      "cell_type": "markdown",
      "metadata": {
        "id": "-12cqmJEpZOh"
      },
      "source": [
        "(4) Install packages nltk, numpy, scipy, pandas, and sklearn on Google Colab. Write a program to test whether they are installed successfully. "
      ]
    },
    {
      "cell_type": "code",
      "metadata": {
        "id": "f1pn1Zl2qK77"
      },
      "source": [
        "# write your answer here\n",
        "\n",
        "! pip install nltk\n",
        "! pip install numpy\n",
        "! pip install scipy\n",
        "! pip install pandas\n",
        "! pip install scikit-learn"
      ],
      "execution_count": null,
      "outputs": []
    },
    {
      "cell_type": "code",
      "metadata": {
        "id": "kNuWD6uDyZ1C",
        "colab": {
          "base_uri": "https://localhost:8080/",
          "height": 607
        },
        "outputId": "f40efd19-b17d-46e1-a27a-8693e708adc4"
      },
      "source": [
        "# test nltk\n",
        "from nltk.tokenize import TweetTokenizer\n",
        "tknzr = TweetTokenizer()\n",
        "s0 = \"This is a cooool #dummysmiley: :-) :-P <3 and some arrows < > -> <--\"\n",
        "print(tknzr.tokenize(s0))\n",
        "print(\"########################################################################\")\n",
        "\n",
        "# test numpy \n",
        "import numpy as np\n",
        "random_sample = np.random.random_sample()\n",
        "print(random_sample)\n",
        "print(\"########################################################################\")\n",
        "\n",
        "# test scipy\n",
        "import numpy as np\n",
        "from scipy.optimize import minimize\n",
        "def rosen(x):\n",
        "  \"\"\"The Rosenbrock function\"\"\"\n",
        "  return sum(100.0*(x[1:]-x[:-1]**2.0)**2.0 + (1-x[:-1])**2.0)\n",
        "x0 = np.array([1.3, 0.7, 0.8, 1.9, 1.2])\n",
        "res = minimize(rosen, x0, method='nelder-mead', options={'xatol': 1e-8, 'disp': True})\n",
        "print(res)\n",
        "print(\"########################################################################\")\n",
        "\n",
        "# test pandas\n",
        "import pandas as pd\n",
        "d = {'col1': [1, 2], 'col2': [3, 4]}\n",
        "df = pd.DataFrame(data=d)\n",
        "print(df)\n",
        "print(\"########################################################################\")\n",
        "\n",
        "# test scikit-learn\n",
        "from sklearn import datasets\n",
        "iris = datasets.load_iris()\n",
        "digits = datasets.load_digits()\n",
        "print(digits.data)"
      ],
      "execution_count": null,
      "outputs": [
        {
          "output_type": "stream",
          "text": [
            "['This', 'is', 'a', 'cooool', '#dummysmiley', ':', ':-)', ':-P', '<3', 'and', 'some', 'arrows', '<', '>', '->', '<--']\n",
            "########################################################################\n",
            "0.8134362006579279\n",
            "########################################################################\n",
            "Optimization terminated successfully.\n",
            "         Current function value: 0.000000\n",
            "         Iterations: 339\n",
            "         Function evaluations: 571\n",
            " final_simplex: (array([[1.        , 1.        , 1.        , 1.        , 1.        ],\n",
            "       [1.        , 1.        , 1.        , 1.        , 1.        ],\n",
            "       [1.        , 1.        , 1.        , 1.00000001, 1.00000001],\n",
            "       [1.        , 1.        , 1.        , 1.        , 1.        ],\n",
            "       [1.        , 1.        , 1.        , 1.        , 1.        ],\n",
            "       [1.        , 1.        , 1.        , 1.        , 0.99999999]]), array([4.86115343e-17, 7.65182843e-17, 8.11395684e-17, 8.63263255e-17,\n",
            "       8.64080682e-17, 2.17927418e-16]))\n",
            "           fun: 4.861153433422115e-17\n",
            "       message: 'Optimization terminated successfully.'\n",
            "          nfev: 571\n",
            "           nit: 339\n",
            "        status: 0\n",
            "       success: True\n",
            "             x: array([1., 1., 1., 1., 1.])\n",
            "########################################################################\n",
            "   col1  col2\n",
            "0     1     3\n",
            "1     2     4\n",
            "########################################################################\n",
            "[[ 0.  0.  5. ...  0.  0.  0.]\n",
            " [ 0.  0.  0. ... 10.  0.  0.]\n",
            " [ 0.  0.  0. ... 16.  9.  0.]\n",
            " ...\n",
            " [ 0.  0.  1. ...  6.  0.  0.]\n",
            " [ 0.  0.  2. ... 12.  0.  0.]\n",
            " [ 0.  0. 10. ... 12.  1.  0.]]\n"
          ],
          "name": "stdout"
        }
      ]
    }
  ]
}